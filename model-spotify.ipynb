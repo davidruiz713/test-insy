{
 "cells": [
  {
   "cell_type": "code",
   "execution_count": 7,
   "metadata": {},
   "outputs": [
    {
     "name": "stdout",
     "output_type": "stream",
     "text": [
      "['artist_count', 'released_year', 'released_month', 'released_day', 'in_spotify_playlists', 'in_spotify_charts', 'streams', 'in_apple_playlists', 'in_apple_charts', 'in_deezer_playlists', 'in_deezer_charts', 'in_shazam_charts', 'bpm', 'danceability_%', 'valence_%', 'energy_%', 'acousticness_%', 'instrumentalness_%', 'liveness_%', 'speechiness_%', 'key_0', 'key_A', 'key_A#', 'key_B', 'key_C#', 'key_D', 'key_D#', 'key_E', 'key_F', 'key_F#', 'key_G', 'key_G#', 'mode_Major', 'mode_Minor']\n",
      "Model accuracy: 1.0\n"
     ]
    }
   ],
   "source": [
    "import pandas as pd\n",
    "from sklearn.model_selection import train_test_split\n",
    "from sklearn.ensemble import RandomForestClassifier\n",
    "from sklearn.preprocessing import StandardScaler\n",
    "import pickle\n",
    "\n",
    "# Load your dataset\n",
    "data = pd.read_csv('Spotify Most Streamed Songs.csv')\n",
    "\n",
    "# Preprocessing - Handle missing values, encode categorical variables, etc.\n",
    "data.fillna(0, inplace=True)\n",
    "\n",
    "# Convert categorical columns to numeric (Example: 'key' and 'mode')\n",
    "data = pd.get_dummies(data, columns=['key', 'mode'])\n",
    "\n",
    "# Convert 'streams' to numeric values, invalid parsing will become NaN\n",
    "data['streams'] = pd.to_numeric(data['streams'], errors='coerce')\n",
    "\n",
    "# Drop rows with NaN values in 'streams' column\n",
    "data = data.dropna(subset=['streams'])\n",
    "\n",
    "# Define the target variable (Here we assume 'streams' > threshold is a hit)\n",
    "data['hit'] = (data['streams'] > 1000000).astype(int)  # Threshold can be adjusted\n",
    "\n",
    "# Remove commas and convert to numeric\n",
    "data['in_deezer_playlists'] = data['in_deezer_playlists'].replace({',': ''}, regex=True)\n",
    "data['in_deezer_playlists'] = pd.to_numeric(data['in_deezer_playlists'], errors='coerce')  # Convert to float, with errors set to NaN\n",
    "\n",
    "data['in_shazam_charts'] = data['in_shazam_charts'].replace({',': ''}, regex=True)\n",
    "data['in_shazam_charts'] = pd.to_numeric(data['in_shazam_charts'], errors='coerce')  # Convert to float, with errors set to NaN\n",
    "\n",
    "\n",
    "# Select the features and target\n",
    "features = data.drop(columns=['track_name', 'artist(s)_name', 'hit', 'cover_url'])\n",
    "target = data['hit']\n",
    "\n",
    "# Split into training and test sets\n",
    "X_train, X_test, y_train, y_test = train_test_split(features, target, test_size=0.2, random_state=42)\n",
    "\n",
    "# Standardize the features\n",
    "scaler = StandardScaler()\n",
    "X_train_scaled = scaler.fit_transform(X_train)\n",
    "X_test_scaled = scaler.transform(X_test)\n",
    "\n",
    "# Train a model (Random Forest in this case)\n",
    "model = RandomForestClassifier(n_estimators=100, random_state=42)\n",
    "model.fit(X_train_scaled, y_train)\n",
    "\n",
    "# Print the feature names used for training the model\n",
    "print(X_train.columns.tolist())\n",
    "\n",
    "# Evaluate the model (optional)\n",
    "accuracy = model.score(X_test_scaled, y_test)\n",
    "print(f'Model accuracy: {accuracy}')\n",
    "\n",
    "# Save the trained model to a pickle file\n",
    "with open('hit_song_predictor_model.pkl', 'wb') as file:\n",
    "    pickle.dump(model, file)\n",
    "\n",
    "# Optionally, save the scaler for later use\n",
    "with open('scaler.pkl', 'wb') as file:\n",
    "    pickle.dump(scaler, file)\n"
   ]
  }
 ],
 "metadata": {
  "kernelspec": {
   "display_name": "Python 3",
   "language": "python",
   "name": "python3"
  },
  "language_info": {
   "codemirror_mode": {
    "name": "ipython",
    "version": 3
   },
   "file_extension": ".py",
   "mimetype": "text/x-python",
   "name": "python",
   "nbconvert_exporter": "python",
   "pygments_lexer": "ipython3",
   "version": "3.12.6"
  }
 },
 "nbformat": 4,
 "nbformat_minor": 2
}
